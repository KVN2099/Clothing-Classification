{
 "cells": [
  {
   "cell_type": "code",
   "execution_count": 44,
   "id": "excited-equation",
   "metadata": {},
   "outputs": [],
   "source": [
    "import pandas as pd\n",
    "from matplotlib import pyplot as plt\n",
    "\n",
    "from sklearn.preprocessing import StandardScaler, LabelEncoder"
   ]
  },
  {
   "cell_type": "code",
   "execution_count": 45,
   "id": "rolled-blank",
   "metadata": {},
   "outputs": [
    {
     "data": {
      "text/html": [
       "<div>\n",
       "<style scoped>\n",
       "    .dataframe tbody tr th:only-of-type {\n",
       "        vertical-align: middle;\n",
       "    }\n",
       "\n",
       "    .dataframe tbody tr th {\n",
       "        vertical-align: top;\n",
       "    }\n",
       "\n",
       "    .dataframe thead th {\n",
       "        text-align: right;\n",
       "    }\n",
       "</style>\n",
       "<table border=\"1\" class=\"dataframe\">\n",
       "  <thead>\n",
       "    <tr style=\"text-align: right;\">\n",
       "      <th></th>\n",
       "      <th>weight</th>\n",
       "      <th>age</th>\n",
       "      <th>height</th>\n",
       "      <th>size</th>\n",
       "    </tr>\n",
       "  </thead>\n",
       "  <tbody>\n",
       "    <tr>\n",
       "      <th>0</th>\n",
       "      <td>62</td>\n",
       "      <td>28.0</td>\n",
       "      <td>172.72</td>\n",
       "      <td>XL</td>\n",
       "    </tr>\n",
       "    <tr>\n",
       "      <th>1</th>\n",
       "      <td>59</td>\n",
       "      <td>36.0</td>\n",
       "      <td>167.64</td>\n",
       "      <td>L</td>\n",
       "    </tr>\n",
       "    <tr>\n",
       "      <th>2</th>\n",
       "      <td>61</td>\n",
       "      <td>34.0</td>\n",
       "      <td>165.10</td>\n",
       "      <td>M</td>\n",
       "    </tr>\n",
       "    <tr>\n",
       "      <th>3</th>\n",
       "      <td>65</td>\n",
       "      <td>27.0</td>\n",
       "      <td>175.26</td>\n",
       "      <td>L</td>\n",
       "    </tr>\n",
       "    <tr>\n",
       "      <th>4</th>\n",
       "      <td>62</td>\n",
       "      <td>45.0</td>\n",
       "      <td>172.72</td>\n",
       "      <td>M</td>\n",
       "    </tr>\n",
       "  </tbody>\n",
       "</table>\n",
       "</div>"
      ],
      "text/plain": [
       "   weight   age  height size\n",
       "0      62  28.0  172.72   XL\n",
       "1      59  36.0  167.64    L\n",
       "2      61  34.0  165.10    M\n",
       "3      65  27.0  175.26    L\n",
       "4      62  45.0  172.72    M"
      ]
     },
     "execution_count": 45,
     "metadata": {},
     "output_type": "execute_result"
    }
   ],
   "source": [
    "df = pd.read_csv('final_test.csv')\n",
    "df.head()"
   ]
  },
  {
   "cell_type": "code",
   "execution_count": 46,
   "id": "respiratory-therapist",
   "metadata": {},
   "outputs": [
    {
     "name": "stdout",
     "output_type": "stream",
     "text": [
      "<class 'pandas.core.frame.DataFrame'>\n",
      "RangeIndex: 119734 entries, 0 to 119733\n",
      "Data columns (total 4 columns):\n",
      " #   Column  Non-Null Count   Dtype  \n",
      "---  ------  --------------   -----  \n",
      " 0   weight  119734 non-null  int64  \n",
      " 1   age     119477 non-null  float64\n",
      " 2   height  119404 non-null  float64\n",
      " 3   size    119734 non-null  object \n",
      "dtypes: float64(2), int64(1), object(1)\n",
      "memory usage: 3.7+ MB\n"
     ]
    }
   ],
   "source": [
    "df.info()"
   ]
  },
  {
   "cell_type": "code",
   "execution_count": 47,
   "id": "different-feature",
   "metadata": {},
   "outputs": [
    {
     "data": {
      "text/html": [
       "<div>\n",
       "<style scoped>\n",
       "    .dataframe tbody tr th:only-of-type {\n",
       "        vertical-align: middle;\n",
       "    }\n",
       "\n",
       "    .dataframe tbody tr th {\n",
       "        vertical-align: top;\n",
       "    }\n",
       "\n",
       "    .dataframe thead th {\n",
       "        text-align: right;\n",
       "    }\n",
       "</style>\n",
       "<table border=\"1\" class=\"dataframe\">\n",
       "  <thead>\n",
       "    <tr style=\"text-align: right;\">\n",
       "      <th></th>\n",
       "      <th>weight</th>\n",
       "      <th>age</th>\n",
       "      <th>height</th>\n",
       "    </tr>\n",
       "  </thead>\n",
       "  <tbody>\n",
       "    <tr>\n",
       "      <th>count</th>\n",
       "      <td>119734.000000</td>\n",
       "      <td>119477.000000</td>\n",
       "      <td>119404.000000</td>\n",
       "    </tr>\n",
       "    <tr>\n",
       "      <th>mean</th>\n",
       "      <td>61.756811</td>\n",
       "      <td>34.027311</td>\n",
       "      <td>165.805794</td>\n",
       "    </tr>\n",
       "    <tr>\n",
       "      <th>std</th>\n",
       "      <td>9.944863</td>\n",
       "      <td>8.149447</td>\n",
       "      <td>6.737651</td>\n",
       "    </tr>\n",
       "    <tr>\n",
       "      <th>min</th>\n",
       "      <td>22.000000</td>\n",
       "      <td>0.000000</td>\n",
       "      <td>137.160000</td>\n",
       "    </tr>\n",
       "    <tr>\n",
       "      <th>25%</th>\n",
       "      <td>55.000000</td>\n",
       "      <td>29.000000</td>\n",
       "      <td>160.020000</td>\n",
       "    </tr>\n",
       "    <tr>\n",
       "      <th>50%</th>\n",
       "      <td>61.000000</td>\n",
       "      <td>32.000000</td>\n",
       "      <td>165.100000</td>\n",
       "    </tr>\n",
       "    <tr>\n",
       "      <th>75%</th>\n",
       "      <td>67.000000</td>\n",
       "      <td>37.000000</td>\n",
       "      <td>170.180000</td>\n",
       "    </tr>\n",
       "    <tr>\n",
       "      <th>max</th>\n",
       "      <td>136.000000</td>\n",
       "      <td>117.000000</td>\n",
       "      <td>193.040000</td>\n",
       "    </tr>\n",
       "  </tbody>\n",
       "</table>\n",
       "</div>"
      ],
      "text/plain": [
       "              weight            age         height\n",
       "count  119734.000000  119477.000000  119404.000000\n",
       "mean       61.756811      34.027311     165.805794\n",
       "std         9.944863       8.149447       6.737651\n",
       "min        22.000000       0.000000     137.160000\n",
       "25%        55.000000      29.000000     160.020000\n",
       "50%        61.000000      32.000000     165.100000\n",
       "75%        67.000000      37.000000     170.180000\n",
       "max       136.000000     117.000000     193.040000"
      ]
     },
     "execution_count": 47,
     "metadata": {},
     "output_type": "execute_result"
    }
   ],
   "source": [
    "df.describe()"
   ]
  },
  {
   "cell_type": "code",
   "execution_count": 48,
   "id": "acoustic-poker",
   "metadata": {},
   "outputs": [
    {
     "data": {
      "text/html": [
       "<div>\n",
       "<style scoped>\n",
       "    .dataframe tbody tr th:only-of-type {\n",
       "        vertical-align: middle;\n",
       "    }\n",
       "\n",
       "    .dataframe tbody tr th {\n",
       "        vertical-align: top;\n",
       "    }\n",
       "\n",
       "    .dataframe thead th {\n",
       "        text-align: right;\n",
       "    }\n",
       "</style>\n",
       "<table border=\"1\" class=\"dataframe\">\n",
       "  <thead>\n",
       "    <tr style=\"text-align: right;\">\n",
       "      <th></th>\n",
       "      <th>weight</th>\n",
       "      <th>age</th>\n",
       "      <th>height</th>\n",
       "    </tr>\n",
       "  </thead>\n",
       "  <tbody>\n",
       "    <tr>\n",
       "      <th>weight</th>\n",
       "      <td>1.000000</td>\n",
       "      <td>0.067962</td>\n",
       "      <td>0.388350</td>\n",
       "    </tr>\n",
       "    <tr>\n",
       "      <th>age</th>\n",
       "      <td>0.067962</td>\n",
       "      <td>1.000000</td>\n",
       "      <td>-0.003044</td>\n",
       "    </tr>\n",
       "    <tr>\n",
       "      <th>height</th>\n",
       "      <td>0.388350</td>\n",
       "      <td>-0.003044</td>\n",
       "      <td>1.000000</td>\n",
       "    </tr>\n",
       "  </tbody>\n",
       "</table>\n",
       "</div>"
      ],
      "text/plain": [
       "          weight       age    height\n",
       "weight  1.000000  0.067962  0.388350\n",
       "age     0.067962  1.000000 -0.003044\n",
       "height  0.388350 -0.003044  1.000000"
      ]
     },
     "execution_count": 48,
     "metadata": {},
     "output_type": "execute_result"
    }
   ],
   "source": [
    "df.corr()"
   ]
  },
  {
   "cell_type": "code",
   "execution_count": 49,
   "id": "developed-delicious",
   "metadata": {},
   "outputs": [
    {
     "data": {
      "text/plain": [
       "array([581, 324, 251], dtype=int64)"
      ]
     },
     "execution_count": 49,
     "metadata": {},
     "output_type": "execute_result"
    }
   ],
   "source": [
    "df[df.isna().any(axis=1)].count().unique()"
   ]
  },
  {
   "cell_type": "markdown",
   "id": "consistent-entry",
   "metadata": {},
   "source": [
    "## NaN Values\n",
    "1. **Issue**: There are rows in the dataset with NaN values\n",
    "2. **Approach**: Drop every row with a NaN value"
   ]
  },
  {
   "cell_type": "code",
   "execution_count": 50,
   "id": "north-scheme",
   "metadata": {},
   "outputs": [
    {
     "data": {
      "text/plain": [
       "array([0], dtype=int64)"
      ]
     },
     "execution_count": 50,
     "metadata": {},
     "output_type": "execute_result"
    }
   ],
   "source": [
    "df = df.dropna(axis=0, how='any')\n",
    "df[df.isna().any(axis=1)].count().unique()"
   ]
  },
  {
   "cell_type": "markdown",
   "id": "variable-bridal",
   "metadata": {},
   "source": [
    "## Check the balance of each label"
   ]
  },
  {
   "cell_type": "code",
   "execution_count": 51,
   "id": "dangerous-formula",
   "metadata": {},
   "outputs": [
    {
     "name": "stdout",
     "output_type": "stream",
     "text": [
      "      weight    age  height\n",
      "size                       \n",
      "L      17481  17481   17481\n",
      "M      29575  29575   29575\n",
      "S      21829  21829   21829\n",
      "XL     19033  19033   19033\n",
      "XXL       69     69      69\n",
      "XXS     9907   9907    9907\n",
      "XXXL   21259  21259   21259\n",
      "weight    0.057909\n",
      "age       0.057909\n",
      "height    0.057909\n",
      "size      0.057909\n",
      "dtype: float64\n"
     ]
    }
   ],
   "source": [
    "print(df.groupby(['size']).count())\n",
    "print(df[df['size'] == 'XXL'].count() / df.shape[0] * 100)"
   ]
  },
  {
   "cell_type": "code",
   "execution_count": 52,
   "id": "pointed-chambers",
   "metadata": {
    "scrolled": true
   },
   "outputs": [
    {
     "name": "stdout",
     "output_type": "stream",
     "text": [
      "        weight   age  height\n",
      "0           62  28.0  172.72\n",
      "1           59  36.0  167.64\n",
      "2           61  34.0  165.10\n",
      "3           65  27.0  175.26\n",
      "4           62  45.0  172.72\n",
      "...        ...   ...     ...\n",
      "119729      63  42.0  175.26\n",
      "119730      45  29.0  154.94\n",
      "119731      61  31.0  172.72\n",
      "119732      74  31.0  167.64\n",
      "119733      70  30.0  167.64\n",
      "\n",
      "[119153 rows x 3 columns] 0         XL\n",
      "1          L\n",
      "2          M\n",
      "3          L\n",
      "4          M\n",
      "          ..\n",
      "119729     M\n",
      "119730     S\n",
      "119731     M\n",
      "119732    XL\n",
      "119733    XL\n",
      "Name: size, Length: 119153, dtype: object\n",
      "69\n"
     ]
    }
   ],
   "source": [
    "X, y = df[df.columns[:-1]], df['size']\n",
    "print(X, y)\n",
    "print(y[y == 'XXL'].count())"
   ]
  },
  {
   "cell_type": "code",
   "execution_count": 53,
   "id": "excessive-thread",
   "metadata": {},
   "outputs": [
    {
     "data": {
      "image/png": "[encoded data removed]",
      "text/plain": [
       "<Figure size 432x288 with 1 Axes>"
      ]
     },
     "metadata": {
      "needs_background": "light"
     },
     "output_type": "display_data"
    }
   ],
   "source": [
    "x_plot = ['L', 'M', 'S', 'XL', 'XXL', 'XXS', 'XXXL'] # Used a random column just to get the number of label instances\n",
    "y_plot = df.groupby(['size']).count()['age'] # Used a random column just to get the number of label instances\n",
    "\n",
    "plt.bar(x_plot, y_plot)\n",
    "\n",
    "plt.title('Number of Data Points for each Size')\n",
    "\n",
    "plt.xlabel('Size')\n",
    "plt.ylabel('Instances')\n",
    "\n",
    "plt.grid()\n",
    "plt.show()"
   ]
  },
  {
   "cell_type": "code",
   "execution_count": 54,
   "id": "cathedral-government",
   "metadata": {},
   "outputs": [
    {
     "data": {
      "image/png": "[encoded data removed]",
      "text/plain": [
       "<Figure size 432x288 with 1 Axes>"
      ]
     },
     "metadata": {
      "needs_background": "light"
     },
     "output_type": "display_data"
    }
   ],
   "source": [
    "x_plot = ['L', 'M', 'S', 'XL', 'XXL', 'XXS', 'XXXL'] # Used a random column just to get the number of label instances\n",
    "y_plot = list(df.groupby(['size']).count()['age']) # Used a random column just to get the number of label instances\n",
    "\n",
    "y_plot = [i / sum(y_plot) for i in y_plot]\n",
    "\n",
    "plt.bar(x_plot, y_plot)\n",
    "\n",
    "plt.title('Proportion of Found Data Points for each Label')\n",
    "\n",
    "plt.xlabel('Size')\n",
    "plt.ylabel('Proportion')\n",
    "\n",
    "plt.grid()\n",
    "plt.show()"
   ]
  },
  {
   "cell_type": "markdown",
   "id": "understanding-edwards",
   "metadata": {},
   "source": [
    "## Imbalanced Dataset\n",
    "1. **Issue**: Size XXL only has 69 cases (0.06% of the entire dataset)\n",
    "2. **Approach**: Create synthetic data using the SMOTE technique to balance out each label\n",
    "    \n",
    "Info about the **SMOTE** (Synthetic Minority Oversampling Technique) can be found [here](https://machinelearningmastery.com/smote-oversampling-for-imbalanced-classification/)."
   ]
  },
  {
   "cell_type": "code",
   "execution_count": 55,
   "id": "damaged-ebony",
   "metadata": {},
   "outputs": [],
   "source": [
    "from imblearn.over_sampling import SMOTE\n",
    "sm = SMOTE(random_state=20) # , sampling_strategy='minority'\n",
    "X_new, y_new = sm.fit_resample(X, y)"
   ]
  },
  {
   "cell_type": "code",
   "execution_count": 56,
   "id": "considered-absence",
   "metadata": {
    "scrolled": true
   },
   "outputs": [
    {
     "name": "stdout",
     "output_type": "stream",
     "text": [
      "        weight        age  height\n",
      "0           62  28.000000  172.72\n",
      "1           59  36.000000  167.64\n",
      "2           61  34.000000  165.10\n",
      "3           65  27.000000  175.26\n",
      "4           62  45.000000  172.72\n",
      "...        ...        ...     ...\n",
      "207020      70  53.000000  167.64\n",
      "207021      74  30.000000  170.18\n",
      "207022      90  27.084895  167.64\n",
      "207023      77  29.000000  160.02\n",
      "207024      70  33.000000  170.18\n",
      "\n",
      "[207025 rows x 3 columns] 0           XL\n",
      "1            L\n",
      "2            M\n",
      "3            L\n",
      "4            M\n",
      "          ... \n",
      "207020    XXXL\n",
      "207021    XXXL\n",
      "207022    XXXL\n",
      "207023    XXXL\n",
      "207024    XXXL\n",
      "Name: size, Length: 207025, dtype: object\n",
      "29575\n"
     ]
    }
   ],
   "source": [
    "print(X_new, y_new)\n",
    "print(y_new[y_new == 'XXL'].count())"
   ]
  },
  {
   "cell_type": "code",
   "execution_count": 57,
   "id": "respected-dress",
   "metadata": {},
   "outputs": [
    {
     "data": {
      "text/html": [
       "<div>\n",
       "<style scoped>\n",
       "    .dataframe tbody tr th:only-of-type {\n",
       "        vertical-align: middle;\n",
       "    }\n",
       "\n",
       "    .dataframe tbody tr th {\n",
       "        vertical-align: top;\n",
       "    }\n",
       "\n",
       "    .dataframe thead th {\n",
       "        text-align: right;\n",
       "    }\n",
       "</style>\n",
       "<table border=\"1\" class=\"dataframe\">\n",
       "  <thead>\n",
       "    <tr style=\"text-align: right;\">\n",
       "      <th></th>\n",
       "      <th>weight</th>\n",
       "      <th>age</th>\n",
       "      <th>height</th>\n",
       "      <th>size</th>\n",
       "    </tr>\n",
       "  </thead>\n",
       "  <tbody>\n",
       "    <tr>\n",
       "      <th>0</th>\n",
       "      <td>62</td>\n",
       "      <td>28.0</td>\n",
       "      <td>172.72</td>\n",
       "      <td>3</td>\n",
       "    </tr>\n",
       "    <tr>\n",
       "      <th>1</th>\n",
       "      <td>59</td>\n",
       "      <td>36.0</td>\n",
       "      <td>167.64</td>\n",
       "      <td>0</td>\n",
       "    </tr>\n",
       "    <tr>\n",
       "      <th>2</th>\n",
       "      <td>61</td>\n",
       "      <td>34.0</td>\n",
       "      <td>165.10</td>\n",
       "      <td>1</td>\n",
       "    </tr>\n",
       "    <tr>\n",
       "      <th>3</th>\n",
       "      <td>65</td>\n",
       "      <td>27.0</td>\n",
       "      <td>175.26</td>\n",
       "      <td>0</td>\n",
       "    </tr>\n",
       "    <tr>\n",
       "      <th>4</th>\n",
       "      <td>62</td>\n",
       "      <td>45.0</td>\n",
       "      <td>172.72</td>\n",
       "      <td>1</td>\n",
       "    </tr>\n",
       "  </tbody>\n",
       "</table>\n",
       "</div>"
      ],
      "text/plain": [
       "   weight   age  height  size\n",
       "0      62  28.0  172.72     3\n",
       "1      59  36.0  167.64     0\n",
       "2      61  34.0  165.10     1\n",
       "3      65  27.0  175.26     0\n",
       "4      62  45.0  172.72     1"
      ]
     },
     "execution_count": 57,
     "metadata": {},
     "output_type": "execute_result"
    }
   ],
   "source": [
    "df_complete = X_new.copy()\n",
    "df_complete['size'] = LabelEncoder().fit_transform(y_new)\n",
    "df_complete.head()"
   ]
  },
  {
   "cell_type": "code",
   "execution_count": 58,
   "id": "dependent-cedar",
   "metadata": {},
   "outputs": [
    {
     "data": {
      "image/png": "[encoded data removed]",
      "text/plain": [
       "<Figure size 432x288 with 1 Axes>"
      ]
     },
     "metadata": {
      "needs_background": "light"
     },
     "output_type": "display_data"
    }
   ],
   "source": [
    "x_plot = ['L', 'M', 'S', 'XL', 'XXL', 'XXS', 'XXXL'] # Used a random column just to get the number of label instances\n",
    "y_plot = df_complete.groupby(['size']).count()['age'] # Used a random column just to get the number of label instances\n",
    "\n",
    "plt.bar(x_plot, y_plot)\n",
    "\n",
    "plt.title('Number of Data Points for each Size')\n",
    "\n",
    "plt.xlabel('Size')\n",
    "plt.ylabel('Instances')\n",
    "\n",
    "plt.grid()\n",
    "plt.show()"
   ]
  },
  {
   "cell_type": "code",
   "execution_count": 59,
   "id": "silent-shift",
   "metadata": {},
   "outputs": [
    {
     "data": {
      "text/html": [
       "<div>\n",
       "<style scoped>\n",
       "    .dataframe tbody tr th:only-of-type {\n",
       "        vertical-align: middle;\n",
       "    }\n",
       "\n",
       "    .dataframe tbody tr th {\n",
       "        vertical-align: top;\n",
       "    }\n",
       "\n",
       "    .dataframe thead th {\n",
       "        text-align: right;\n",
       "    }\n",
       "</style>\n",
       "<table border=\"1\" class=\"dataframe\">\n",
       "  <thead>\n",
       "    <tr style=\"text-align: right;\">\n",
       "      <th></th>\n",
       "      <th>weight</th>\n",
       "      <th>age</th>\n",
       "      <th>height</th>\n",
       "      <th>size</th>\n",
       "    </tr>\n",
       "  </thead>\n",
       "  <tbody>\n",
       "    <tr>\n",
       "      <th>0</th>\n",
       "      <td>0.023734</td>\n",
       "      <td>-0.746752</td>\n",
       "      <td>1.152977</td>\n",
       "      <td>3</td>\n",
       "    </tr>\n",
       "    <tr>\n",
       "      <th>1</th>\n",
       "      <td>-0.285383</td>\n",
       "      <td>0.216877</td>\n",
       "      <td>0.421254</td>\n",
       "      <td>0</td>\n",
       "    </tr>\n",
       "    <tr>\n",
       "      <th>2</th>\n",
       "      <td>-0.079305</td>\n",
       "      <td>-0.024030</td>\n",
       "      <td>0.055393</td>\n",
       "      <td>1</td>\n",
       "    </tr>\n",
       "    <tr>\n",
       "      <th>3</th>\n",
       "      <td>0.332851</td>\n",
       "      <td>-0.867206</td>\n",
       "      <td>1.518838</td>\n",
       "      <td>0</td>\n",
       "    </tr>\n",
       "    <tr>\n",
       "      <th>4</th>\n",
       "      <td>0.023734</td>\n",
       "      <td>1.300959</td>\n",
       "      <td>1.152977</td>\n",
       "      <td>1</td>\n",
       "    </tr>\n",
       "  </tbody>\n",
       "</table>\n",
       "</div>"
      ],
      "text/plain": [
       "     weight       age    height  size\n",
       "0  0.023734 -0.746752  1.152977     3\n",
       "1 -0.285383  0.216877  0.421254     0\n",
       "2 -0.079305 -0.024030  0.055393     1\n",
       "3  0.332851 -0.867206  1.518838     0\n",
       "4  0.023734  1.300959  1.152977     1"
      ]
     },
     "execution_count": 59,
     "metadata": {},
     "output_type": "execute_result"
    }
   ],
   "source": [
    "df_scaled = StandardScaler().fit_transform(df_complete[df_complete.columns[:-1]].to_numpy())\n",
    "df_scaled = pd.DataFrame(df_scaled, columns=df_complete.columns[:-1])\n",
    "df_scaled['size'] = df_complete['size']\n",
    "df_scaled.head()"
   ]
  },
  {
   "cell_type": "code",
   "execution_count": 60,
   "id": "israeli-denmark",
   "metadata": {},
   "outputs": [
    {
     "data": {
      "text/plain": [
       "<AxesSubplot:>"
      ]
     },
     "execution_count": 60,
     "metadata": {},
     "output_type": "execute_result"
    },
    {
     "data": {
      "image/png": "[encoded data removed]",
      "text/plain": [
       "<Figure size 432x288 with 1 Axes>"
      ]
     },
     "metadata": {
      "needs_background": "light"
     },
     "output_type": "display_data"
    }
   ],
   "source": [
    "df.boxplot(column=['weight', 'age'])"
   ]
  },
  {
   "cell_type": "markdown",
   "id": "asian-mauritius",
   "metadata": {},
   "source": [
    "## Define and Train Models!\n",
    "Classification models I will use:\n",
    "1. K-Nearest Neighbors\n",
    "2. Decision Trees\n",
    "3. Random Forest\n",
    "4. Support Vector Machine\n",
    "5. Logistic Regression\n",
    "6. Naive Bayes"
   ]
  },
  {
   "cell_type": "code",
   "execution_count": 61,
   "id": "australian-lambda",
   "metadata": {},
   "outputs": [],
   "source": [
    "from sklearn.neighbors import KNeighborsClassifier\n",
    "from sklearn.tree import DecisionTreeClassifier, export_text\n",
    "from sklearn.ensemble import RandomForestClassifier\n",
    "from sklearn.linear_model import LogisticRegression\n",
    "from sklearn.naive_bayes import GaussianNB\n",
    "from sklearn.discriminant_analysis import QuadraticDiscriminantAnalysis\n",
    "from sklearn.neural_network import MLPClassifier\n",
    "from sklearn.preprocessing import StandardScaler\n",
    "\n",
    "from sklearn.model_selection import train_test_split"
   ]
  },
  {
   "cell_type": "code",
   "execution_count": 62,
   "id": "beginning-pursuit",
   "metadata": {},
   "outputs": [],
   "source": [
    "X_train, X_test, y_train, y_test = train_test_split(df_scaled[df_scaled.columns[:-1]],\n",
    "                                                    df_scaled['size'],\n",
    "                                                    test_size=.25)"
   ]
  },
  {
   "cell_type": "code",
   "execution_count": 63,
   "id": "combined-convenience",
   "metadata": {},
   "outputs": [
    {
     "data": {
      "image/png": "[encoded data removed]",
      "text/plain": [
       "<Figure size 432x288 with 1 Axes>"
      ]
     },
     "metadata": {
      "needs_background": "light"
     },
     "output_type": "display_data"
    }
   ],
   "source": [
    "# K-Nearest Neighbors\n",
    "ks = 20\n",
    "scores = []\n",
    "for k in range(1, ks):\n",
    "    knn = KNeighborsClassifier(n_neighbors = k)\n",
    "    knn.fit(X_train, y_train)\n",
    "    scores.append(knn.score(X_test, y_test))\n",
    "    \n",
    "plt.plot(range(len(scores)), scores)\n",
    "plt.scatter(scores.index(max(scores)), max(scores), color='orange')\n",
    "\n",
    "plt.xticks(range(len(scores)), [i for i in range(1, ks)])\n",
    "plt.text(scores.index(max(scores))-1, max(scores), f'{round(max(scores), 2)}')\n",
    "\n",
    "plt.grid()\n",
    "plt.show()\n",
    "\n",
    "# Average best value for K: 18\n",
    "knn = KNeighborsClassifier(n_neighbors = 18).fit(X_train, y_train)"
   ]
  },
  {
   "cell_type": "code",
   "execution_count": 64,
   "id": "french-arbitration",
   "metadata": {},
   "outputs": [
    {
     "name": "stdout",
     "output_type": "stream",
     "text": [
      "0.6064880112834978\n"
     ]
    }
   ],
   "source": [
    "# Decision Trees\n",
    "tree = DecisionTreeClassifier(criterion='entropy').fit(X_train, y_train)\n",
    "print(tree.score(X_test, y_test))"
   ]
  },
  {
   "cell_type": "code",
   "execution_count": 65,
   "id": "hindu-little",
   "metadata": {},
   "outputs": [
    {
     "name": "stdout",
     "output_type": "stream",
     "text": [
      "0.6094248121027107\n"
     ]
    }
   ],
   "source": [
    "# Random Forest\n",
    "rfc = RandomForestClassifier()\n",
    "rfc.fit(X_train, y_train)\n",
    "print(rfc.score(X_test, y_test))"
   ]
  },
  {
   "cell_type": "code",
   "execution_count": 66,
   "id": "devoted-recognition",
   "metadata": {},
   "outputs": [
    {
     "name": "stdout",
     "output_type": "stream",
     "text": [
      "0.5308267480727245\n"
     ]
    }
   ],
   "source": [
    "lr = LogisticRegression(max_iter=600, solver='sag').fit(X_train, y_train)\n",
    "print(lr.score(X_test, y_test))"
   ]
  },
  {
   "cell_type": "code",
   "execution_count": 67,
   "id": "narrow-destruction",
   "metadata": {},
   "outputs": [
    {
     "name": "stdout",
     "output_type": "stream",
     "text": [
      "0.49844465482929845\n"
     ]
    }
   ],
   "source": [
    "gnb = GaussianNB().fit(X_train, y_train)\n",
    "print(gnb.score(X_test, y_test))"
   ]
  },
  {
   "cell_type": "code",
   "execution_count": 68,
   "id": "enclosed-capitol",
   "metadata": {},
   "outputs": [
    {
     "name": "stdout",
     "output_type": "stream",
     "text": [
      "0.5140947118264196\n"
     ]
    }
   ],
   "source": [
    "qda = QuadraticDiscriminantAnalysis().fit(X_train, y_train)\n",
    "print(qda.score(X_test, y_test))"
   ]
  },
  {
   "cell_type": "code",
   "execution_count": 69,
   "id": "working-lexington",
   "metadata": {},
   "outputs": [
    {
     "name": "stdout",
     "output_type": "stream",
     "text": [
      "0.5526981857526518\n"
     ]
    }
   ],
   "source": [
    "nn = MLPClassifier(random_state=1, max_iter=600).fit(X_train, y_train)\n",
    "print(nn.score(X_test, y_test))"
   ]
  },
  {
   "cell_type": "markdown",
   "id": "completed-poison",
   "metadata": {},
   "source": [
    "# Scoring"
   ]
  },
  {
   "cell_type": "code",
   "execution_count": 70,
   "id": "rapid-formation",
   "metadata": {},
   "outputs": [],
   "source": [
    "from sklearn.metrics import f1_score, jaccard_score, balanced_accuracy_score\n",
    "models = {\n",
    "    'KNN': knn,\n",
    "    'DecisionTree': tree,\n",
    "    'RandomForest': rfc,\n",
    "    'LogisticRegression': lr,\n",
    "    'GaussianNB': gnb,\n",
    "    'QDA': qda,\n",
    "    'MLP': nn\n",
    "}"
   ]
  },
  {
   "cell_type": "code",
   "execution_count": 74,
   "id": "neutral-royal",
   "metadata": {},
   "outputs": [],
   "source": [
    "def score(y_true, y_pred):\n",
    "    d = {}\n",
    "    d['F1 Score'] = f1_score(y_true, y_pred, average='weighted')\n",
    "    d['Jaccard'] = jaccard_score(y_true, y_pred, average='weighted')\n",
    "    d['Balanced Accuracy'] = balanced_accuracy_score(y_true, y_pred)\n",
    "    return d"
   ]
  },
  {
   "cell_type": "code",
   "execution_count": 75,
   "id": "formal-cabin",
   "metadata": {},
   "outputs": [],
   "source": [
    "model_scores = {}\n",
    "for model in models.keys():\n",
    "    model_scores[model] = score(y_test, models[model].predict(X_test))"
   ]
  },
  {
   "cell_type": "code",
   "execution_count": 76,
   "id": "controversial-grant",
   "metadata": {},
   "outputs": [
    {
     "data": {
      "image/png": "[encoded data removed]",
      "text/plain": [
       "<Figure size 432x288 with 1 Axes>"
      ]
     },
     "metadata": {
      "needs_background": "light"
     },
     "output_type": "display_data"
    }
   ],
   "source": [
    "import numpy as np\n",
    "ind = np.arange(7)\n",
    "colors = ['r', 'g', 'b']\n",
    "for i, model in enumerate(model_scores.keys()):\n",
    "    sep = -.2\n",
    "    color_id = 0\n",
    "    for score in model_scores[model]:\n",
    "        plt.bar(ind[i]+sep, model_scores[model][score], width=0.2, color=colors[color_id], align='center', edgecolor='black')\n",
    "        sep += .2\n",
    "        color_id += 1\n",
    "plt.title('Accuracy Score per Model')\n",
    "\n",
    "plt.xlabel('Model')\n",
    "plt.ylabel('Score')\n",
    "\n",
    "plt.legend(d.keys())\n",
    "\n",
    "plt.xticks(ind, model_scores.keys(), rotation=20)\n",
    "plt.show()"
   ]
  }
 ],
 "metadata": {
  "kernelspec": {
   "display_name": "Python 3",
   "language": "python",
   "name": "python3"
  },
  "language_info": {
   "codemirror_mode": {
    "name": "ipython",
    "version": 3
   },
   "file_extension": ".py",
   "mimetype": "text/x-python",
   "name": "python",
   "nbconvert_exporter": "python",
   "pygments_lexer": "ipython3",
   "version": "3.8.10"
  }
 },
 "nbformat": 4,
 "nbformat_minor": 5
}
